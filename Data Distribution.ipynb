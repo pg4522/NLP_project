{
 "cells": [
  {
   "cell_type": "code",
   "execution_count": 1,
   "id": "308f85e0",
   "metadata": {},
   "outputs": [],
   "source": [
    "import pandas as pd"
   ]
  },
  {
   "cell_type": "code",
   "execution_count": 2,
   "id": "0841283d",
   "metadata": {},
   "outputs": [],
   "source": [
    "df = pd.read_csv('./MBTI 500.csv')"
   ]
  },
  {
   "cell_type": "code",
   "execution_count": 19,
   "id": "2a78ecbb",
   "metadata": {},
   "outputs": [],
   "source": [
    "df_E = df[df['type'].str.contains('E')]\n",
    "df_E = df_E.reset_index(drop = True)\n",
    "\n",
    "df_I = df[df['type'].str.contains('I')]\n",
    "df_I = df_I.reset_index(drop = True)"
   ]
  },
  {
   "cell_type": "code",
   "execution_count": 11,
   "id": "5c1081d2",
   "metadata": {},
   "outputs": [],
   "source": [
    "df_N = df[df['type'].str.contains('N')]\n",
    "df_N = df_N.reset_index(drop = True)\n",
    "\n",
    "df_S = df[df['type'].str.contains('S')]\n",
    "df_S = df_S.reset_index(drop = True)"
   ]
  },
  {
   "cell_type": "code",
   "execution_count": 14,
   "id": "00856c94",
   "metadata": {},
   "outputs": [],
   "source": [
    "df_F = df[df['type'].str.contains('F')]\n",
    "df_F = df_F.reset_index(drop = True)\n",
    "\n",
    "df_T = df[df['type'].str.contains('T')]\n",
    "df_T = df_T.reset_index(drop = True)"
   ]
  },
  {
   "cell_type": "code",
   "execution_count": 16,
   "id": "801bff3b",
   "metadata": {},
   "outputs": [],
   "source": [
    "df_P = df[df['type'].str.contains('P')]\n",
    "df_P = df_P.reset_index(drop = True)\n",
    "\n",
    "df_J = df[df['type'].str.contains('J')]\n",
    "df_J = df_J.reset_index(drop = True)"
   ]
  }
 ],
 "metadata": {
  "kernelspec": {
   "display_name": "Python 3",
   "language": "python",
   "name": "python3"
  },
  "language_info": {
   "codemirror_mode": {
    "name": "ipython",
    "version": 3
   },
   "file_extension": ".py",
   "mimetype": "text/x-python",
   "name": "python",
   "nbconvert_exporter": "python",
   "pygments_lexer": "ipython3",
   "version": "3.7.0"
  }
 },
 "nbformat": 4,
 "nbformat_minor": 5
}
